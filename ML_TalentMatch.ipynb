{
  "nbformat": 4,
  "nbformat_minor": 0,
  "metadata": {
    "colab": {
      "provenance": [],
      "authorship_tag": "ABX9TyNmcPhuXDPhDg/iEqJLKYz0",
      "include_colab_link": true
    },
    "kernelspec": {
      "name": "python3",
      "display_name": "Python 3"
    },
    "language_info": {
      "name": "python"
    }
  },
  "cells": [
    {
      "cell_type": "markdown",
      "metadata": {
        "id": "view-in-github",
        "colab_type": "text"
      },
      "source": [
        "<a href=\"https://colab.research.google.com/github/ark2016/ML-TalentMatch/blob/main/ML_TalentMatch.ipynb\" target=\"_parent\"><img src=\"https://colab.research.google.com/assets/colab-badge.svg\" alt=\"Open In Colab\"/></a>"
      ]
    },
    {
      "cell_type": "code",
      "source": [
        "!pip install transformers"
      ],
      "metadata": {
        "colab": {
          "base_uri": "https://localhost:8080/"
        },
        "id": "nAgHnaGIHe-L",
        "outputId": "5d280a7c-c27f-4599-ba09-5d04f68694d3"
      },
      "execution_count": 27,
      "outputs": [
        {
          "output_type": "stream",
          "name": "stdout",
          "text": [
            "Requirement already satisfied: transformers in /usr/local/lib/python3.10/dist-packages (4.37.2)\n",
            "Requirement already satisfied: filelock in /usr/local/lib/python3.10/dist-packages (from transformers) (3.13.1)\n",
            "Requirement already satisfied: huggingface-hub<1.0,>=0.19.3 in /usr/local/lib/python3.10/dist-packages (from transformers) (0.20.3)\n",
            "Requirement already satisfied: numpy>=1.17 in /usr/local/lib/python3.10/dist-packages (from transformers) (1.25.2)\n",
            "Requirement already satisfied: packaging>=20.0 in /usr/local/lib/python3.10/dist-packages (from transformers) (23.2)\n",
            "Requirement already satisfied: pyyaml>=5.1 in /usr/local/lib/python3.10/dist-packages (from transformers) (6.0.1)\n",
            "Requirement already satisfied: regex!=2019.12.17 in /usr/local/lib/python3.10/dist-packages (from transformers) (2023.12.25)\n",
            "Requirement already satisfied: requests in /usr/local/lib/python3.10/dist-packages (from transformers) (2.31.0)\n",
            "Requirement already satisfied: tokenizers<0.19,>=0.14 in /usr/local/lib/python3.10/dist-packages (from transformers) (0.15.2)\n",
            "Requirement already satisfied: safetensors>=0.4.1 in /usr/local/lib/python3.10/dist-packages (from transformers) (0.4.2)\n",
            "Requirement already satisfied: tqdm>=4.27 in /usr/local/lib/python3.10/dist-packages (from transformers) (4.66.2)\n",
            "Requirement already satisfied: fsspec>=2023.5.0 in /usr/local/lib/python3.10/dist-packages (from huggingface-hub<1.0,>=0.19.3->transformers) (2023.6.0)\n",
            "Requirement already satisfied: typing-extensions>=3.7.4.3 in /usr/local/lib/python3.10/dist-packages (from huggingface-hub<1.0,>=0.19.3->transformers) (4.9.0)\n",
            "Requirement already satisfied: charset-normalizer<4,>=2 in /usr/local/lib/python3.10/dist-packages (from requests->transformers) (3.3.2)\n",
            "Requirement already satisfied: idna<4,>=2.5 in /usr/local/lib/python3.10/dist-packages (from requests->transformers) (3.6)\n",
            "Requirement already satisfied: urllib3<3,>=1.21.1 in /usr/local/lib/python3.10/dist-packages (from requests->transformers) (2.0.7)\n",
            "Requirement already satisfied: certifi>=2017.4.17 in /usr/local/lib/python3.10/dist-packages (from requests->transformers) (2024.2.2)\n"
          ]
        }
      ]
    },
    {
      "cell_type": "code",
      "source": [
        "!pip install torch"
      ],
      "metadata": {
        "colab": {
          "base_uri": "https://localhost:8080/"
        },
        "id": "Z3GVKLJsHjeM",
        "outputId": "ef2add49-b2f7-4925-997c-a631ce7f8c5d"
      },
      "execution_count": 28,
      "outputs": [
        {
          "output_type": "stream",
          "name": "stdout",
          "text": [
            "Requirement already satisfied: torch in /usr/local/lib/python3.10/dist-packages (2.1.0+cu121)\n",
            "Requirement already satisfied: filelock in /usr/local/lib/python3.10/dist-packages (from torch) (3.13.1)\n",
            "Requirement already satisfied: typing-extensions in /usr/local/lib/python3.10/dist-packages (from torch) (4.9.0)\n",
            "Requirement already satisfied: sympy in /usr/local/lib/python3.10/dist-packages (from torch) (1.12)\n",
            "Requirement already satisfied: networkx in /usr/local/lib/python3.10/dist-packages (from torch) (3.2.1)\n",
            "Requirement already satisfied: jinja2 in /usr/local/lib/python3.10/dist-packages (from torch) (3.1.3)\n",
            "Requirement already satisfied: fsspec in /usr/local/lib/python3.10/dist-packages (from torch) (2023.6.0)\n",
            "Requirement already satisfied: triton==2.1.0 in /usr/local/lib/python3.10/dist-packages (from torch) (2.1.0)\n",
            "Requirement already satisfied: MarkupSafe>=2.0 in /usr/local/lib/python3.10/dist-packages (from jinja2->torch) (2.1.5)\n",
            "Requirement already satisfied: mpmath>=0.19 in /usr/local/lib/python3.10/dist-packages (from sympy->torch) (1.3.0)\n"
          ]
        }
      ]
    },
    {
      "cell_type": "code",
      "source": [
        "!pip install evaluate"
      ],
      "metadata": {
        "colab": {
          "base_uri": "https://localhost:8080/"
        },
        "id": "zmQYc3bmHowK",
        "outputId": "dc62af49-8df8-4d1f-ff14-6e277340aeba"
      },
      "execution_count": 29,
      "outputs": [
        {
          "output_type": "stream",
          "name": "stdout",
          "text": [
            "Requirement already satisfied: evaluate in /usr/local/lib/python3.10/dist-packages (0.4.1)\n",
            "Requirement already satisfied: datasets>=2.0.0 in /usr/local/lib/python3.10/dist-packages (from evaluate) (2.17.1)\n",
            "Requirement already satisfied: numpy>=1.17 in /usr/local/lib/python3.10/dist-packages (from evaluate) (1.25.2)\n",
            "Requirement already satisfied: dill in /usr/local/lib/python3.10/dist-packages (from evaluate) (0.3.8)\n",
            "Requirement already satisfied: pandas in /usr/local/lib/python3.10/dist-packages (from evaluate) (1.5.3)\n",
            "Requirement already satisfied: requests>=2.19.0 in /usr/local/lib/python3.10/dist-packages (from evaluate) (2.31.0)\n",
            "Requirement already satisfied: tqdm>=4.62.1 in /usr/local/lib/python3.10/dist-packages (from evaluate) (4.66.2)\n",
            "Requirement already satisfied: xxhash in /usr/local/lib/python3.10/dist-packages (from evaluate) (3.4.1)\n",
            "Requirement already satisfied: multiprocess in /usr/local/lib/python3.10/dist-packages (from evaluate) (0.70.16)\n",
            "Requirement already satisfied: fsspec[http]>=2021.05.0 in /usr/local/lib/python3.10/dist-packages (from evaluate) (2023.6.0)\n",
            "Requirement already satisfied: huggingface-hub>=0.7.0 in /usr/local/lib/python3.10/dist-packages (from evaluate) (0.20.3)\n",
            "Requirement already satisfied: packaging in /usr/local/lib/python3.10/dist-packages (from evaluate) (23.2)\n",
            "Requirement already satisfied: responses<0.19 in /usr/local/lib/python3.10/dist-packages (from evaluate) (0.18.0)\n",
            "Requirement already satisfied: filelock in /usr/local/lib/python3.10/dist-packages (from datasets>=2.0.0->evaluate) (3.13.1)\n",
            "Requirement already satisfied: pyarrow>=12.0.0 in /usr/local/lib/python3.10/dist-packages (from datasets>=2.0.0->evaluate) (14.0.2)\n",
            "Requirement already satisfied: pyarrow-hotfix in /usr/local/lib/python3.10/dist-packages (from datasets>=2.0.0->evaluate) (0.6)\n",
            "Requirement already satisfied: aiohttp in /usr/local/lib/python3.10/dist-packages (from datasets>=2.0.0->evaluate) (3.9.3)\n",
            "Requirement already satisfied: pyyaml>=5.1 in /usr/local/lib/python3.10/dist-packages (from datasets>=2.0.0->evaluate) (6.0.1)\n",
            "Requirement already satisfied: typing-extensions>=3.7.4.3 in /usr/local/lib/python3.10/dist-packages (from huggingface-hub>=0.7.0->evaluate) (4.9.0)\n",
            "Requirement already satisfied: charset-normalizer<4,>=2 in /usr/local/lib/python3.10/dist-packages (from requests>=2.19.0->evaluate) (3.3.2)\n",
            "Requirement already satisfied: idna<4,>=2.5 in /usr/local/lib/python3.10/dist-packages (from requests>=2.19.0->evaluate) (3.6)\n",
            "Requirement already satisfied: urllib3<3,>=1.21.1 in /usr/local/lib/python3.10/dist-packages (from requests>=2.19.0->evaluate) (2.0.7)\n",
            "Requirement already satisfied: certifi>=2017.4.17 in /usr/local/lib/python3.10/dist-packages (from requests>=2.19.0->evaluate) (2024.2.2)\n",
            "Requirement already satisfied: python-dateutil>=2.8.1 in /usr/local/lib/python3.10/dist-packages (from pandas->evaluate) (2.8.2)\n",
            "Requirement already satisfied: pytz>=2020.1 in /usr/local/lib/python3.10/dist-packages (from pandas->evaluate) (2023.4)\n",
            "Requirement already satisfied: aiosignal>=1.1.2 in /usr/local/lib/python3.10/dist-packages (from aiohttp->datasets>=2.0.0->evaluate) (1.3.1)\n",
            "Requirement already satisfied: attrs>=17.3.0 in /usr/local/lib/python3.10/dist-packages (from aiohttp->datasets>=2.0.0->evaluate) (23.2.0)\n",
            "Requirement already satisfied: frozenlist>=1.1.1 in /usr/local/lib/python3.10/dist-packages (from aiohttp->datasets>=2.0.0->evaluate) (1.4.1)\n",
            "Requirement already satisfied: multidict<7.0,>=4.5 in /usr/local/lib/python3.10/dist-packages (from aiohttp->datasets>=2.0.0->evaluate) (6.0.5)\n",
            "Requirement already satisfied: yarl<2.0,>=1.0 in /usr/local/lib/python3.10/dist-packages (from aiohttp->datasets>=2.0.0->evaluate) (1.9.4)\n",
            "Requirement already satisfied: async-timeout<5.0,>=4.0 in /usr/local/lib/python3.10/dist-packages (from aiohttp->datasets>=2.0.0->evaluate) (4.0.3)\n",
            "Requirement already satisfied: six>=1.5 in /usr/local/lib/python3.10/dist-packages (from python-dateutil>=2.8.1->pandas->evaluate) (1.16.0)\n"
          ]
        }
      ]
    },
    {
      "cell_type": "code",
      "source": [
        "import pandas as pd\n",
        "import numpy as np\n",
        "import matplotlib.pyplot as plt\n",
        "import json"
      ],
      "metadata": {
        "id": "u2blRXXjHtk3"
      },
      "execution_count": 30,
      "outputs": []
    },
    {
      "cell_type": "code",
      "source": [
        "def extract_text_from_docx(path_to_file):\n",
        "    with open(path_to_file, 'r', encoding='utf-8') as json_file:\n",
        "        data = json.load(json_file)\n",
        "        texts = [item['content'] for item in data]\n",
        "        #print(texts[0])\n",
        "        return texts\n",
        "    return 'error'"
      ],
      "metadata": {
        "id": "-9srUxrPIABo"
      },
      "execution_count": 31,
      "outputs": []
    },
    {
      "cell_type": "code",
      "source": [
        "text = extract_text_from_docx('resume_texts_without_lowercase.json')"
      ],
      "metadata": {
        "id": "nKoOY_8qIApV"
      },
      "execution_count": 32,
      "outputs": []
    },
    {
      "cell_type": "code",
      "source": [
        "from transformers import pipeline\n",
        "\n",
        "pipe = pipeline(\"question-answering\", model=\"Kiet/autotrain-resume_parser-1159242747\")\n",
        "\n",
        "from transformers import AutoTokenizer, AutoModelForQuestionAnswering\n",
        "\n",
        "tokenizer = AutoTokenizer.from_pretrained(\"Kiet/autotrain-resume_parser-1159242747\")\n",
        "model = AutoModelForQuestionAnswering.from_pretrained(\"Kiet/autotrain-resume_parser-1159242747\")"
      ],
      "metadata": {
        "colab": {
          "base_uri": "https://localhost:8080/"
        },
        "id": "qO6qxSy6IHNh",
        "outputId": "ead18f8c-0e77-40f7-ce7d-b109e559ac19"
      },
      "execution_count": 33,
      "outputs": [
        {
          "output_type": "stream",
          "name": "stderr",
          "text": [
            "Some weights of the model checkpoint at Kiet/autotrain-resume_parser-1159242747 were not used when initializing LongformerForQuestionAnswering: ['longformer.embeddings.position_ids']\n",
            "- This IS expected if you are initializing LongformerForQuestionAnswering from the checkpoint of a model trained on another task or with another architecture (e.g. initializing a BertForSequenceClassification model from a BertForPreTraining model).\n",
            "- This IS NOT expected if you are initializing LongformerForQuestionAnswering from the checkpoint of a model that you expect to be exactly identical (initializing a BertForSequenceClassification model from a BertForSequenceClassification model).\n",
            "Some weights of the model checkpoint at Kiet/autotrain-resume_parser-1159242747 were not used when initializing LongformerForQuestionAnswering: ['longformer.embeddings.position_ids']\n",
            "- This IS expected if you are initializing LongformerForQuestionAnswering from the checkpoint of a model trained on another task or with another architecture (e.g. initializing a BertForSequenceClassification model from a BertForPreTraining model).\n",
            "- This IS NOT expected if you are initializing LongformerForQuestionAnswering from the checkpoint of a model that you expect to be exactly identical (initializing a BertForSequenceClassification model from a BertForSequenceClassification model).\n"
          ]
        }
      ]
    },
    {
      "cell_type": "code",
      "source": [
        "answer = pipe( \"What is my mail?\", text[176])"
      ],
      "metadata": {
        "colab": {
          "base_uri": "https://localhost:8080/"
        },
        "id": "X0lZw9NeINk3",
        "outputId": "218393c5-bb22-4e0d-cf9c-95b05e4e1fba"
      },
      "execution_count": 19,
      "outputs": [
        {
          "output_type": "stream",
          "name": "stderr",
          "text": [
            "Input ids are automatically padded from 357 to 512 to be a multiple of `config.attention_window`: 512\n"
          ]
        }
      ]
    },
    {
      "cell_type": "code",
      "source": [
        "name = answer[\"answer\"]"
      ],
      "metadata": {
        "colab": {
          "base_uri": "https://localhost:8080/",
          "height": 35
        },
        "id": "UGXko6ZALzsa",
        "outputId": "f7e9e805-f861-4890-ec74-5328a065c2c7"
      },
      "execution_count": 18,
      "outputs": [
        {
          "output_type": "execute_result",
          "data": {
            "text/plain": [
              "'Anton'"
            ],
            "application/vnd.google.colaboratory.intrinsic+json": {
              "type": "string"
            }
          },
          "metadata": {},
          "execution_count": 18
        }
      ]
    },
    {
      "cell_type": "code",
      "source": [
        "answer"
      ],
      "metadata": {
        "id": "WU6q2eHzNDEM"
      },
      "execution_count": null,
      "outputs": []
    },
    {
      "cell_type": "code",
      "source": [
        "text[176]"
      ],
      "metadata": {
        "colab": {
          "base_uri": "https://localhost:8080/",
          "height": 400
        },
        "id": "cYkkoEhdKaSw",
        "outputId": "a40a664b-3588-4eca-fbc4-ec866f501197"
      },
      "execution_count": 13,
      "outputs": [
        {
          "output_type": "execute_result",
          "data": {
            "text/plain": [
              "'STEPAN\\nE X P E R I E N C E\\nGOLDOBIN\\nUI/UX DESIGNER / FRONTEND |\\n09.2019 - now\\nClearscale (AWS Partner), USA\\n27 years old\\nRare unicorn. Working with: React, Angular, Ember, GraphQL, Node.js, Express. Also\\nmaking UX/UI design and graphic design.\\nUI/UX DESIGNER / FRONTEND | 05.2019 - 09-2019\\nQIWI, Moscow\\nDeveloped a service for companies, as a “Kickstarter”, but for banks/startups. Created\\nUX/UI design and a frontend part (React).\\nUI/UX DESIGNER / FRONTEND | 09.2018 - 05.2019\\nUI/ UX Designer Evercity, Moscow\\nI have developed UI/UX and prototypes for the web service.\\nFrontend Developer\\nCreating front end visualisation in React.js\\nMotion Designer\\nMade a more iterative development process with flexible course change.\\nUI/UX DESIGNER / FRONTEND | 03.2017 - 09.2019\\nMSTlab24, St.Petersburg\\nMy name is Anton and I am a\\nWith a lot of experience in SCRUM methodology, I develop in several spheres:\\ncross-functional specialist with UI /\\nDevelopment of UI/UX of mobile and web applications for internal BTB products.\\nUX and Frontend skills.\\nExperience using Haml/Sass/Vuejs for developing web applications and landing pages\\nManual and Automated Testing.\\nI also created a library with a UI-web-kit - http://mandragora.mstdev.ru/\\nUI/UX DESIGNER / FRONTEND | 06.2017 - 01.2018\\nMyPocketGirls, Moscow\\nDevelopment of user interfaces for the mobile game \"MyPocketGirls\", game design of\\nmini-games.\\nUI/UX DESIGNER / FRONTEND | 09.2017 - 02.2018\\nC O N T A C T\\nDbrain, Moscow\\nI developed designs for an AI service, implemented mock-ups for a landing page in\\nHTML/CSS.\\nUI/UX DESIGNER | 04.2016 - 04.2017\\ndribbble.com/Goldobinnnnn\\nApp-labs, St.Petersburg\\nhttps://github.com/Goldobinnnnn\\nDevelopment of layouts for android and IOS applications and web services, prototypes,\\nanimations. Quality control development. Web development department management.\\nUI/UX DESIGNER | 06.2015 - 04.2016\\nStartup, St.Petersburg\\n+ 7 952 224 61 11\\nDevelopment of design and application logic for reading product information on the\\n7224511111@mail.ru\\nbarcode and selection of instructions to it.\\nGRAPHIC DESIGNER | 06.2012 - 06.2015\\nTruck Studio, Naberezhnye Chelny\\nSt. Petersburg Responsible for handling all printable media: from leaflets up to 10m banners, laser\\nRussia cutting and engraving, plotter cutting, mock-up development and layout.\\nS K I L L S\\nSOFTWARE PACKAGES LANGUAGE & FRAMEWORKS\\nSketch HTML/CSS\\nFigma Javascript\\nAdobe Photoshop Vue.js\\nAdobe Illustrator React.js\\nAdobe After Effects Angular.js\\nArt skill Node.js\\nE D U C A T I O N\\nNAB. CHELNY ART SCHOOL #2 STATE INSTITUTION “KAMI”\\nArtist Lawyer\\n2004 - 2009 2011 - 2012\\nAt art school I learned drawing skills, At the law school I studied the\\nthat still help me necessary knowledge in terms of the\\nlaw\\nMUNICIPAL EDUCATIONAL EDUCATIONAL INSTITUTION\\nINSTITUTION \"INTERSCHOOL \"TECHNICAL COLLEGE\\nTRAINING COMPLEX\" \"V.D.POTASHOVA\"\\nComputer operator Industrial system programmer\\nHonor degree\\n2007 - 2009\\n2009 - 2011\\nI learned different programs such as\\nAdobe Photoshop, Adobe After Effects, I gained programming skills for\\nFlash metalworking machines. Also worked\\nwith Zeiss precision measuring machines.\\nL A N G U A G E\\nRUSSIAN ENGLISH\\nNative speaker Upper Intermediate \\n Hello again!\\nGlad to see you on the second page\\nA B O U T\\nHACKATONS\\nI have an overall design experience of over 7 years. I have experience working under various conditions in different\\nenvironments.\\nI have been a web developer for the past 2 years. At my current job, I developed a library with a design system using\\nVue.js\\nI work on projects using technology stacks like Rails+VueJs and Rails+ReactJs.\\nTECHNOLOGY STACKS\\nDesign\\nAdobe Photoshop CC, Sketch, Figma, CorelDraw, Illustrator, Invision, After Effects\\nUI development and front-end\\nJS, VueJS, ReactJs, AngularJs, EmberJs, GraphQL, HTML / CSS, SCSS and similar preprocessors, Webpack\\nBackend development\\nNodeJs, GraphQL, Express, Mongoose\\nTesting\\nCucumber, Capibara, Jira, Kaiten\\nSTRENGTHS\\n• Cross-functional - I\\'m Ideal for scrum teams. I\\'ve worked with agile methodologies (Scrum, Kanban).\\n• I am social. I love new acquaintances and communication.\\n• Can train other people and monitor the progress of tasks.\\n• I am a team player with a systematic approach who can juggle multiple projects at the same time.\\n• Like to stretch your wings across user research, split testing, user experience and product design.\\n• Think about the most common devices.\\n• Have some experience with conversional driven design and split testing.\\n• Comfortable working on multiple projects at a time of taking ownership.\\n• Ability to prioritize projects, communicate progress and deliver on time.\\n• Passion for identifying and solving real user problems.\\nSKILLS\\n• Create various kinds of animations using Adobe After Effect.\\n• Sketch to create pixel-perfect design.\\n• Programming in JavaScript, work with libraries and read documentations.\\n• Good foundation in Vue.js and React.js, I can independently carry out small tasks and help other developers.\\n• QA – Manual and automated testing (cucumber + capibara).\\n• Rapid prototyping in Figma and Sketch.\\n• Knowledge of typography, information design and modular grids.\\n• Experience in teamwork, remote development, experience in negotiations and presentations, experience in the\\nposition of art director.\\n• I follow current trends in web development and UI designs. Static, rubber, adaptability.\\n• Knowledge and experience in Pre-press and Printing. Experience with printing houses. Order and control of\\ncirculation.\\n• Knowledge of GitHub/GitLab – comfortably.\\nP R O G R E S S\\nHACKATONS\\n• Member of the Open Fight hackathon finalist team from OPEN\\nBank.\\n• Member of the hackathon winners team from the St. Petersburg\\nPolytechnic Institute.\\n• Member of the hackathon finalist team Budapest Hackjunction’18.\\n• Member of the Hackathon winners team Energy Blockchain Hack. \\n '"
            ],
            "application/vnd.google.colaboratory.intrinsic+json": {
              "type": "string"
            }
          },
          "metadata": {},
          "execution_count": 13
        }
      ]
    },
    {
      "cell_type": "code",
      "source": [
        "!pip install docx"
      ],
      "metadata": {
        "colab": {
          "base_uri": "https://localhost:8080/"
        },
        "id": "BC9Z3imBiG5J",
        "outputId": "426a6ae1-72c4-4ff9-9cb9-480ae9793345"
      },
      "execution_count": 35,
      "outputs": [
        {
          "output_type": "stream",
          "name": "stdout",
          "text": [
            "Collecting docx\n",
            "  Downloading docx-0.2.4.tar.gz (54 kB)\n",
            "\u001b[2K     \u001b[90m━━━━━━━━━━━━━━━━━━━━━━━━━━━━━━━━━━━━━━━━\u001b[0m \u001b[32m54.9/54.9 kB\u001b[0m \u001b[31m1.2 MB/s\u001b[0m eta \u001b[36m0:00:00\u001b[0m\n",
            "\u001b[?25h  Preparing metadata (setup.py) ... \u001b[?25l\u001b[?25hdone\n",
            "Requirement already satisfied: lxml in /usr/local/lib/python3.10/dist-packages (from docx) (4.9.4)\n",
            "Requirement already satisfied: Pillow>=2.0 in /usr/local/lib/python3.10/dist-packages (from docx) (9.4.0)\n",
            "Building wheels for collected packages: docx\n",
            "  Building wheel for docx (setup.py) ... \u001b[?25l\u001b[?25hdone\n",
            "  Created wheel for docx: filename=docx-0.2.4-py3-none-any.whl size=53895 sha256=dc927737ecf03608f13f40ad25c412bbe0c13866b7ae788355d1bc77ee4941b0\n",
            "  Stored in directory: /root/.cache/pip/wheels/81/f5/1d/e09ba2c1907a43a4146d1189ae4733ca1a3bfe27ee39507767\n",
            "Successfully built docx\n",
            "Installing collected packages: docx\n",
            "Successfully installed docx-0.2.4\n"
          ]
        }
      ]
    },
    {
      "cell_type": "code",
      "source": [
        "!pip install pymorphy2"
      ],
      "metadata": {
        "colab": {
          "base_uri": "https://localhost:8080/"
        },
        "id": "6un_YgcOiPW_",
        "outputId": "f0e55fc0-650f-4f27-cb73-7b861ed02a98"
      },
      "execution_count": 40,
      "outputs": [
        {
          "output_type": "stream",
          "name": "stdout",
          "text": [
            "Collecting pymorphy2\n",
            "  Downloading pymorphy2-0.9.1-py3-none-any.whl (55 kB)\n",
            "\u001b[2K     \u001b[90m━━━━━━━━━━━━━━━━━━━━━━━━━━━━━━━━━━━━━━━━\u001b[0m \u001b[32m55.5/55.5 kB\u001b[0m \u001b[31m1.4 MB/s\u001b[0m eta \u001b[36m0:00:00\u001b[0m\n",
            "\u001b[?25hCollecting dawg-python>=0.7.1 (from pymorphy2)\n",
            "  Downloading DAWG_Python-0.7.2-py2.py3-none-any.whl (11 kB)\n",
            "Collecting pymorphy2-dicts-ru<3.0,>=2.4 (from pymorphy2)\n",
            "  Downloading pymorphy2_dicts_ru-2.4.417127.4579844-py2.py3-none-any.whl (8.2 MB)\n",
            "\u001b[2K     \u001b[90m━━━━━━━━━━━━━━━━━━━━━━━━━━━━━━━━━━━━━━━━\u001b[0m \u001b[32m8.2/8.2 MB\u001b[0m \u001b[31m27.1 MB/s\u001b[0m eta \u001b[36m0:00:00\u001b[0m\n",
            "\u001b[?25hCollecting docopt>=0.6 (from pymorphy2)\n",
            "  Downloading docopt-0.6.2.tar.gz (25 kB)\n",
            "  Preparing metadata (setup.py) ... \u001b[?25l\u001b[?25hdone\n",
            "Building wheels for collected packages: docopt\n",
            "  Building wheel for docopt (setup.py) ... \u001b[?25l\u001b[?25hdone\n",
            "  Created wheel for docopt: filename=docopt-0.6.2-py2.py3-none-any.whl size=13706 sha256=184bede84b00dca7a295b7a7c8694eeb9f21b4942458cc3ac84734727f373413\n",
            "  Stored in directory: /root/.cache/pip/wheels/fc/ab/d4/5da2067ac95b36618c629a5f93f809425700506f72c9732fac\n",
            "Successfully built docopt\n",
            "Installing collected packages: pymorphy2-dicts-ru, docopt, dawg-python, pymorphy2\n",
            "Successfully installed dawg-python-0.7.2 docopt-0.6.2 pymorphy2-0.9.1 pymorphy2-dicts-ru-2.4.417127.4579844\n"
          ]
        }
      ]
    },
    {
      "cell_type": "code",
      "source": [
        "import os\n",
        "\n",
        "import nltk\n",
        "# from docx import Document\n",
        "# import pdfplumber\n",
        "# import json\n",
        "from nltk.corpus import wordnet\n",
        "import pymorphy2\n",
        "\n"
      ],
      "metadata": {
        "id": "QB6ZrgsriDKv"
      },
      "execution_count": 41,
      "outputs": []
    },
    {
      "cell_type": "code",
      "source": [
        "nltk.download('wordnet')"
      ],
      "metadata": {
        "colab": {
          "base_uri": "https://localhost:8080/"
        },
        "id": "MvcffNfqiDh6",
        "outputId": "93e16c2e-8b77-4001-dd84-47d8fad65a18"
      },
      "execution_count": 42,
      "outputs": [
        {
          "output_type": "stream",
          "name": "stderr",
          "text": [
            "[nltk_data] Downloading package wordnet to /root/nltk_data...\n"
          ]
        },
        {
          "output_type": "execute_result",
          "data": {
            "text/plain": [
              "True"
            ]
          },
          "metadata": {},
          "execution_count": 42
        }
      ]
    },
    {
      "cell_type": "code",
      "source": [
        "\n",
        "\n",
        "# def file_to_text(file_path):\n",
        "#     try:\n",
        "#         text = \"\"\n",
        "#         if \".docx\" in file_path:\n",
        "#             # Преобразование .docx файла в текст\n",
        "#             doc = Document(file_path)\n",
        "#             for paragraph in doc.paragraphs:\n",
        "#                 text += paragraph.text.replace(\"\\t\",\" \").strip() + ' \\n '\n",
        "#         else:е\n",
        "#             # Преобразование .pdf файла в текст\n",
        "#             with pdfplumber.open(file_path) as pdf:\n",
        "#                 for page in pdf.pages:\n",
        "#                     text += page.extract_text() + ' \\n '\n",
        "\n",
        "#         #text = text.lower()\n",
        "#         work_with_text(text)\n",
        "#         return text\n",
        "#     except Exception as e:\n",
        "#         print(f\"Ошибка при чтении файла: {e}\")\n",
        "#         return None\n",
        "\n",
        "# def work_with_text(text):\n",
        "#     if \"akhundov damat\" in text:\n",
        "#         print(text)\n",
        "\n",
        "\n",
        "def split_resume_into_blocks(text, keywords):\n",
        "    # Получение индексов начала каждого ключевого слова\n",
        "    start_indices = []\n",
        "    for keyword, synonyms in keywords.items():\n",
        "        for synonym in synonyms:\n",
        "            start_index = text.lower().find(synonym.lower())\n",
        "            if start_index != -1:\n",
        "                start_indices.append((start_index, keyword))\n",
        "                break\n",
        "\n",
        "    # Сортировка индексов\n",
        "    start_indices.sort()\n",
        "\n",
        "    # Разделение текста на блоки по ключевым словам\n",
        "    blocks = {}\n",
        "    for i in range(len(start_indices)):\n",
        "        start_index, block_name = start_indices[i]\n",
        "        end_index = start_indices[i + 1][0] if i + 1 < len(start_indices) else len(text)\n",
        "        blocks[block_name] = text[start_index:end_index].strip()\n",
        "\n",
        "    return blocks\n",
        "\n",
        "def extract_remaining_text(text, blocks):\n",
        "    remaining_text = text\n",
        "    for block_name, block_text in blocks.items():\n",
        "        remaining_text = remaining_text.replace(block_text, \"\")\n",
        "    return remaining_text.strip()\n",
        "\n",
        "# Функция для получения синонимов с использованием nltk\n",
        "def get_synonyms(word):\n",
        "    synonyms = set()\n",
        "    for syn in wordnet.synsets(word):\n",
        "        for lemma in syn.lemmas():\n",
        "            synonyms.add(lemma.name())\n",
        "    return list(synonyms)\n",
        "\n",
        "# Функция для получения синонимов с использованием pymorphy2\n",
        "def get_russian_synonyms(word):\n",
        "    morph = pymorphy2.MorphAnalyzer()\n",
        "    parsed_word = morph.parse(word)[0]\n",
        "    return [parsed_word.normal_form] + [i.normal_form for i in parsed_word.lexeme]\n",
        "\n",
        "# Список ключевых слов для блоков\n",
        "keywords = {\n",
        "    \"education\": [\"education\", \"учеба\"],\n",
        "    \"awards\": [\"awards\", \"награды\"],\n",
        "    \"experience\": [\"experience\", \"опыт\"],\n",
        "    \"projects\": [\"projects\", \"проекты\"],\n",
        "    \"skills\": [\"skills\", \"навыки\"],\n",
        "    \"activities\": [\"activities\", \"деятельность\"]\n",
        "}\n",
        "\n",
        "\n",
        "\n",
        "\n",
        "# if __name__ == \"__main__\":\n",
        "# Добавление синонимов к ключевым словам\n",
        "for key, value in keywords.items():\n",
        "    synonyms = []\n",
        "    for word in value:\n",
        "        synonyms.extend(get_synonyms(word))  # Для английских синонимов\n",
        "        synonyms.extend(get_russian_synonyms(word))  # Для русских синонимов\n",
        "    keywords[key] = list(set(synonyms))\n",
        "\n",
        "print(keywords)\n",
        "\n",
        "# file_path = \"resume/AHMAT SULEIMENOV.docx\"\n",
        "# resume_text = file_to_text(file_path)\n",
        "resume_text = text[0]\n",
        "\n",
        "resume_blocks = split_resume_into_blocks(resume_text, keywords)\n",
        "for i in resume_blocks.keys():\n",
        "    print(i, \":\", resume_blocks[i])\n",
        "remaining_text = extract_remaining_text(resume_text, resume_blocks)\n",
        "print(\"Remaining Text: \", remaining_text)\n",
        "# with open('resume_texts_without_lowercase.json', 'w', encoding='utf-8') as json_file:\n",
        "#     json.dump(resume_texts, json_file, ensure_ascii=False, indent=4)\n",
        "#     print(\"JSON файл успешно сохранен.\")"
      ],
      "metadata": {
        "colab": {
          "base_uri": "https://localhost:8080/"
        },
        "id": "RgeOCvrRh_3H",
        "outputId": "13805a69-484e-4c8b-b54b-e501457d2579"
      },
      "execution_count": 44,
      "outputs": [
        {
          "output_type": "stream",
          "name": "stdout",
          "text": [
            "{'education': ['pedagogy', 'training', 'Education_Department', 'education', 'Department_of_Education', 'educational_activity', 'Education', 'didactics', 'учёба', 'instruction', 'breeding', 'teaching'], 'awards': ['grant', 'accolade', 'awards', 'award', 'honour', 'награда', 'prize', 'laurels', 'honor', 'present', 'awarding'], 'experience': ['go_through', 'experience', 'live', 'see', 'have', 'feel', 'get', 'receive', 'know', 'опыт'], 'projects': ['throw', 'send_off', 'contrive', 'propose', 'project', 'jut', 'plan', 'проект', 'cast', 'externalise', 'fancy', 'jut_out', 'projects', 'figure', 'protrude', 'see', 'image', 'undertaking', 'picture', 'externalize', 'task', 'visualise', 'labor', 'stick_out', 'visualize', 'design', 'projection', 'envision'], 'skills': ['attainment', 'accomplishment', 'science', 'acquirement', 'skills', 'acquisition', 'skill', 'навык'], 'activities': ['деятельность', 'activities', 'activity', 'natural_action', 'body_process', 'bodily_function', 'action', 'activeness', 'bodily_process', 'natural_process']}\n",
            "education : EDUCATION \n",
            " New  York  University  Abu  Dhabi Expected May 2024 \n",
            " B.S. of Computer\n",
            "skills : Science and Mathematics GPA: 3.88/4.00 Relevant Coursework: Software Engineering, Computer Systems Organizations, Algorithms, \n",
            " Data Structures, Autonomous and Social Robots, iOS University \n",
            " 42 Software Engineering School Aug 2019 - Aug 2020 \n",
            " Software Engineering Fremont, CA \n",
            " Implemented 10+ C library functions \n",
            " Taught 50+ new students the foundation of C programming language and terminal usage \n",
            " Built a fully working copy of the shell \n",
            " Nazarbayev Intellectual School Sep 2015 - May 2019 \n",
            " A-level education in Computer Science, Mathematics, and Physics GPA:  3.92/4.00\n",
            "experience : EXPERIENCE \n",
            " Lead  Developer Jun 2021 - Present \n",
            " Impact Admissions Nur-Sultan, KZ \n",
            " Programmed a bot to modify scores of 98 students and post leader board in telegram and Google Sheets. \n",
            " Researched market of 10 Ed Tech companies, compared their gains, and tested their platform on 20 students. \n",
            " Developing an admissions prediction platform that analyzes student’s essays, exams, and grades \n",
            " Unix  Lab  Tutor Aug 2021 - Present \n",
            " New York University Abu Dhabi Abu Dhabi, UAE \n",
            " Assisting students with their assignments, CS concepts, and personal tech\n",
            "projects : projects \n",
            " Leading CS related workshops on a monthly basis with more than 30 students attending regularly \n",
            " PROJECTS \n",
            " Fire Fighting Robot  Python/Gearsbot May 2021 - Jul 2021 \n",
            " Constructed a robot system able to detect survivors in burning buildings and clear obstacles in its path \n",
            " Virtual  File  System   C++/STL/OOP/Linux/Sorting algorithms Mar 2021 - Apr 2021 \n",
            " Implemented a user-friendly, private file system on C++ \n",
            " Designed the ability to modify file using Linux commands \n",
            " Doodle Jump   Python/Processing Nov 2020 - Dec 2020 \n",
            " Programmed from scratch a Doodle jump game on Processing IDE \n",
            " ACTIVITES \n",
            " Google Developers Club - Co-Lead, supervising work of various teams Aug 2021 - Present \n",
            " ACM ICPC Team - Team Leader, competing in ACM ICPC Jun 2021 - Present \n",
            " IEEE - Member, competing in IEEEXtreme and hackathons Dec 2020 - Present\n",
            "awards : AWARDS \n",
            " Astana Innovations Challenge Hackathon - Top 2 among 50+ teams \n",
            " Republican Mathematics Olympiad Bronze Medalist - Top 15 among 200+ participants \n",
            " Future Leaders Exchange Program (FLEX) - Top 2% among 5000+ applicants \n",
            " SKILLS \n",
            " Programming Languages: Python, C++, C, Dart, JavaScript, HTML/CSS \n",
            " Frameworks/Tools: Git, Flutter, SQL, Pandas, Photoshop, Figma\n",
            "Remaining Text:  AHMAT SULEIMENOV \n",
            " +971 50 000 9004 ⬦ ahmat.suleimenov@nyu.edu ⬦ linkedin.com/akaaasuleimenov ⬦ akaaaleimenov.github.io\n"
          ]
        }
      ]
    },
    {
      "cell_type": "code",
      "source": [
        "resume_blocks[\"experience\"] +"
      ],
      "metadata": {
        "colab": {
          "base_uri": "https://localhost:8080/",
          "height": 70
        },
        "id": "g4Pk2L21nXnN",
        "outputId": "517225fd-9cb6-4bf7-8f03-3374063cfc0b"
      },
      "execution_count": 156,
      "outputs": [
        {
          "output_type": "execute_result",
          "data": {
            "text/plain": [
              "'EXPERIENCE \\n Lead  Developer Jun 2021 - Present \\n Impact Admissions Nur-Sultan, KZ \\n Programmed a bot to modify scores of 98 students and post leader board in telegram and Google Sheets. \\n Researched market of 10 Ed Tech companies, compared their gains, and tested their platform on 20 students. \\n Developing an admissions prediction platform that analyzes student’s essays, exams, and grades \\n Unix  Lab  Tutor Aug 2021 - Present \\n New York University Abu Dhabi Abu Dhabi, UAE \\n Assisting students with their assignments, CS concepts, and personal tech'"
            ],
            "application/vnd.google.colaboratory.intrinsic+json": {
              "type": "string"
            }
          },
          "metadata": {},
          "execution_count": 156
        }
      ]
    },
    {
      "cell_type": "code",
      "source": [
        "pipe(\"education\", text[0])"
      ],
      "metadata": {
        "colab": {
          "base_uri": "https://localhost:8080/"
        },
        "id": "7NSRoSvVnd5w",
        "outputId": "f284de5e-886d-42c2-fdd8-31129b883f40"
      },
      "execution_count": 49,
      "outputs": [
        {
          "output_type": "stream",
          "name": "stderr",
          "text": [
            "Input ids are automatically padded from 174 to 512 to be a multiple of `config.attention_window`: 512\n"
          ]
        },
        {
          "output_type": "execute_result",
          "data": {
            "text/plain": [
              "{'score': 0.3767259418964386,\n",
              " 'start': 134,\n",
              " 'end': 167,\n",
              " 'answer': 'New  York  University  Abu  Dhabi'}"
            ]
          },
          "metadata": {},
          "execution_count": 49
        }
      ]
    },
    {
      "cell_type": "code",
      "source": [
        "resume_blocks[\"awards\"]"
      ],
      "metadata": {
        "colab": {
          "base_uri": "https://localhost:8080/",
          "height": 53
        },
        "id": "tCOns1VQnpw4",
        "outputId": "9d5100c4-ade9-4af1-e178-08cec4626d53"
      },
      "execution_count": 50,
      "outputs": [
        {
          "output_type": "execute_result",
          "data": {
            "text/plain": [
              "'AWARDS \\n Astana Innovations Challenge Hackathon - Top 2 among 50+ teams \\n Republican Mathematics Olympiad Bronze Medalist - Top 15 among 200+ participants \\n Future Leaders Exchange Program (FLEX) - Top 2% among 5000+ applicants \\n SKILLS \\n Programming Languages: Python, C++, C, Dart, JavaScript, HTML/CSS \\n Frameworks/Tools: Git, Flutter, SQL, Pandas, Photoshop, Figma'"
            ],
            "application/vnd.google.colaboratory.intrinsic+json": {
              "type": "string"
            }
          },
          "metadata": {},
          "execution_count": 50
        }
      ]
    },
    {
      "cell_type": "code",
      "source": [
        "pipe(\"all awards\", text[0])"
      ],
      "metadata": {
        "colab": {
          "base_uri": "https://localhost:8080/"
        },
        "id": "2l4ewyYin42X",
        "outputId": "c4446950-4712-4ba8-9009-9f2fa11acb39"
      },
      "execution_count": 55,
      "outputs": [
        {
          "output_type": "execute_result",
          "data": {
            "text/plain": [
              "{'score': 0.06279513984918594,\n",
              " 'start': 2200,\n",
              " 'end': 2264,\n",
              " 'answer': '\\n Astana Innovations Challenge Hackathon - Top 2 among 50+ teams'}"
            ]
          },
          "metadata": {},
          "execution_count": 55
        }
      ]
    },
    {
      "cell_type": "code",
      "source": [
        "pipe(\"Programming Languages\", text[0])"
      ],
      "metadata": {
        "colab": {
          "base_uri": "https://localhost:8080/"
        },
        "id": "mUiUIR7uoMhP",
        "outputId": "55554ea0-827e-43a7-eca4-65b2786f10dd"
      },
      "execution_count": 54,
      "outputs": [
        {
          "output_type": "execute_result",
          "data": {
            "text/plain": [
              "{'score': 0.3734247088432312,\n",
              " 'start': 2455,\n",
              " 'end': 2497,\n",
              " 'answer': 'Python, C++, C, Dart, JavaScript, HTML/CSS'}"
            ]
          },
          "metadata": {},
          "execution_count": 54
        }
      ]
    },
    {
      "cell_type": "code",
      "source": [
        "resume_blocks[\"experience\"]"
      ],
      "metadata": {
        "colab": {
          "base_uri": "https://localhost:8080/",
          "height": 70
        },
        "id": "bFJrsgJOn7HK",
        "outputId": "21dde3ee-23c0-474b-ad7c-ca0ca4e7d69c"
      },
      "execution_count": 52,
      "outputs": [
        {
          "output_type": "execute_result",
          "data": {
            "text/plain": [
              "'EXPERIENCE \\n Lead  Developer Jun 2021 - Present \\n Impact Admissions Nur-Sultan, KZ \\n Programmed a bot to modify scores of 98 students and post leader board in telegram and Google Sheets. \\n Researched market of 10 Ed Tech companies, compared their gains, and tested their platform on 20 students. \\n Developing an admissions prediction platform that analyzes student’s essays, exams, and grades \\n Unix  Lab  Tutor Aug 2021 - Present \\n New York University Abu Dhabi Abu Dhabi, UAE \\n Assisting students with their assignments, CS concepts, and personal tech'"
            ],
            "application/vnd.google.colaboratory.intrinsic+json": {
              "type": "string"
            }
          },
          "metadata": {},
          "execution_count": 52
        }
      ]
    },
    {
      "cell_type": "code",
      "source": [
        "pipe(\"experience\", text[0])"
      ],
      "metadata": {
        "colab": {
          "base_uri": "https://localhost:8080/"
        },
        "id": "gew04h6tn9Xg",
        "outputId": "a276e364-76f9-4f2e-a05c-86e62aed6363"
      },
      "execution_count": 53,
      "outputs": [
        {
          "output_type": "execute_result",
          "data": {
            "text/plain": [
              "{'score': 0.08028198033571243,\n",
              " 'start': 802,\n",
              " 'end': 856,\n",
              " 'answer': 'Lead  Developer Jun 2021 - Present \\n Impact Admissions'}"
            ]
          },
          "metadata": {},
          "execution_count": 53
        }
      ]
    },
    {
      "cell_type": "code",
      "source": [
        "resume_blocks[\"projects\"]"
      ],
      "metadata": {
        "colab": {
          "base_uri": "https://localhost:8080/",
          "height": 87
        },
        "id": "eobbwWTMoIJC",
        "outputId": "ca46c420-8d57-4846-dacf-86f6a60f63cf"
      },
      "execution_count": 56,
      "outputs": [
        {
          "output_type": "execute_result",
          "data": {
            "text/plain": [
              "'projects \\n Leading CS related workshops on a monthly basis with more than 30 students attending regularly \\n PROJECTS \\n Fire Fighting Robot  Python/Gearsbot May 2021 - Jul 2021 \\n Constructed a robot system able to detect survivors in burning buildings and clear obstacles in its path \\n Virtual  File  System   C++/STL/OOP/Linux/Sorting algorithms Mar 2021 - Apr 2021 \\n Implemented a user-friendly, private file system on C++ \\n Designed the ability to modify file using Linux commands \\n Doodle Jump   Python/Processing Nov 2020 - Dec 2020 \\n Programmed from scratch a Doodle jump game on Processing IDE \\n ACTIVITES \\n Google Developers Club - Co-Lead, supervising work of various teams Aug 2021 - Present \\n ACM ICPC Team - Team Leader, competing in ACM ICPC Jun 2021 - Present \\n IEEE - Member, competing in IEEEXtreme and hackathons Dec 2020 - Present'"
            ],
            "application/vnd.google.colaboratory.intrinsic+json": {
              "type": "string"
            }
          },
          "metadata": {},
          "execution_count": 56
        }
      ]
    },
    {
      "cell_type": "code",
      "source": [
        "pipe(\"projects\", text[0])"
      ],
      "metadata": {
        "colab": {
          "base_uri": "https://localhost:8080/"
        },
        "id": "IHnKsCU_oKh-",
        "outputId": "6f83e28c-ab04-4c70-ddc3-c7948432a904"
      },
      "execution_count": 57,
      "outputs": [
        {
          "output_type": "execute_result",
          "data": {
            "text/plain": [
              "{'score': 0.004002835135906935,\n",
              " 'start': 1460,\n",
              " 'end': 1498,\n",
              " 'answer': '\\n Fire Fighting Robot  Python/Gearsbot'}"
            ]
          },
          "metadata": {},
          "execution_count": 57
        }
      ]
    },
    {
      "cell_type": "code",
      "source": [
        "pipe(\"What language do I speak?\", text[0])"
      ],
      "metadata": {
        "colab": {
          "base_uri": "https://localhost:8080/"
        },
        "id": "9s5QD56FpOXe",
        "outputId": "0d7b20e3-d476-4acd-cf99-8e82d9068d44"
      },
      "execution_count": 60,
      "outputs": [
        {
          "output_type": "execute_result",
          "data": {
            "text/plain": [
              "{'score': 0.00015950892702676356,\n",
              " 'start': 800,\n",
              " 'end': 856,\n",
              " 'answer': '\\n Lead  Developer Jun 2021 - Present \\n Impact Admissions'}"
            ]
          },
          "metadata": {},
          "execution_count": 60
        }
      ]
    },
    {
      "cell_type": "code",
      "source": [
        "!pip install langdetect"
      ],
      "metadata": {
        "colab": {
          "base_uri": "https://localhost:8080/"
        },
        "id": "7vYl2gbDp1I-",
        "outputId": "3bfa8158-a4a8-4000-dc17-38499d205c30"
      },
      "execution_count": 61,
      "outputs": [
        {
          "output_type": "stream",
          "name": "stdout",
          "text": [
            "Collecting langdetect\n",
            "  Downloading langdetect-1.0.9.tar.gz (981 kB)\n",
            "\u001b[2K     \u001b[90m━━━━━━━━━━━━━━━━━━━━━━━━━━━━━━━━━━━━━━━━\u001b[0m \u001b[32m981.5/981.5 kB\u001b[0m \u001b[31m5.8 MB/s\u001b[0m eta \u001b[36m0:00:00\u001b[0m\n",
            "\u001b[?25h  Preparing metadata (setup.py) ... \u001b[?25l\u001b[?25hdone\n",
            "Requirement already satisfied: six in /usr/local/lib/python3.10/dist-packages (from langdetect) (1.16.0)\n",
            "Building wheels for collected packages: langdetect\n",
            "  Building wheel for langdetect (setup.py) ... \u001b[?25l\u001b[?25hdone\n",
            "  Created wheel for langdetect: filename=langdetect-1.0.9-py3-none-any.whl size=993225 sha256=d4dcd725ad7cf716c4b8f307a11fc98c377c2b2050d971c07daead71e3ccf939\n",
            "  Stored in directory: /root/.cache/pip/wheels/95/03/7d/59ea870c70ce4e5a370638b5462a7711ab78fba2f655d05106\n",
            "Successfully built langdetect\n",
            "Installing collected packages: langdetect\n",
            "Successfully installed langdetect-1.0.9\n"
          ]
        }
      ]
    },
    {
      "cell_type": "code",
      "source": [
        "from langdetect import detect\n",
        "detect(\"War doesn't show who's right, just who's left.\")"
      ],
      "metadata": {
        "colab": {
          "base_uri": "https://localhost:8080/",
          "height": 35
        },
        "id": "LdUEROBKp2kM",
        "outputId": "0cff67c5-62c0-48ff-9a4e-4b507959e958"
      },
      "execution_count": 62,
      "outputs": [
        {
          "output_type": "execute_result",
          "data": {
            "text/plain": [
              "'en'"
            ],
            "application/vnd.google.colaboratory.intrinsic+json": {
              "type": "string"
            }
          },
          "metadata": {},
          "execution_count": 62
        }
      ]
    },
    {
      "cell_type": "code",
      "source": [
        "detect(text[0])"
      ],
      "metadata": {
        "colab": {
          "base_uri": "https://localhost:8080/",
          "height": 35
        },
        "id": "I-ZYRlRPp9tZ",
        "outputId": "c1a1a807-1e77-427c-b30f-ecad0a78d9bb"
      },
      "execution_count": 64,
      "outputs": [
        {
          "output_type": "execute_result",
          "data": {
            "text/plain": [
              "'en'"
            ],
            "application/vnd.google.colaboratory.intrinsic+json": {
              "type": "string"
            }
          },
          "metadata": {},
          "execution_count": 64
        }
      ]
    },
    {
      "cell_type": "code",
      "source": [
        "dicta = {\n",
        "  \"resume\": {\n",
        "      \"resume_id\": \"\",\n",
        "      \"first_name\": \"\",\n",
        "      \"last_name\": \"\",\n",
        "      \"middle_name\": \"\",\n",
        "      \"birth_date\": \"\",\n",
        "      \"birth_date_year_only\": \"\",\n",
        "      \"country\": \"\",\n",
        "      \"city\": \"\",\n",
        "      \"about\": \"\",\n",
        "      \"key_skills\": \"\",\n",
        "      \"salary_expectations_amount\": \"\",\n",
        "      \"salary_expectations_currency\": \"\",\n",
        "      \"photo_path\": \"\",\n",
        "      \"gender\": \"\",\n",
        "      \"language\": \"\",\n",
        "      \"resume_name\": \"\",\n",
        "      \"source_link\": \"\",\n",
        "      \"contactItems\": [\n",
        "        {\n",
        "          \"resume_contact_item_id\": \"\",\n",
        "          \"value\": \"\",\n",
        "          \"comment\": \"\",\n",
        "          \"contact_type\": \"\"\n",
        "        }\n",
        "      ],\n",
        "      \"educationItems\": [\n",
        "        {\n",
        "          \"resume_education_item_id\": \"\",\n",
        "          \"year\": \"\",\n",
        "          \"organization\": \"\",\n",
        "          \"faculty\": \"\",\n",
        "          \"specialty\": \"\",\n",
        "          \"result\": \"\",\n",
        "          \"education_type\": \"\",\n",
        "          \"education_level\": \"\"\n",
        "        }\n",
        "      ],\n",
        "      \"experienceItems\": [\n",
        "        {\n",
        "          \"resume_experience_item_id\": \"\",\n",
        "          \"starts\": \"\",\n",
        "          \"ends\": \"\",\n",
        "          \"employer\": \"\",\n",
        "          \"city\": \"\",\n",
        "          \"url\": \"\",\n",
        "          \"position\": \"\",\n",
        "          \"description\": \"\",\n",
        "          \"order\": \"\"\n",
        "        }\n",
        "      ],\n",
        "      \"languageItems\": [\n",
        "        {\n",
        "          \"resume_language_item_id\": \"\",\n",
        "          \"language\": \"\",\n",
        "          \"language_level\": \"\"\n",
        "        }\n",
        "      ]\n",
        "    }\n",
        "}"
      ],
      "metadata": {
        "id": "NblVPE_UqzWn"
      },
      "execution_count": 66,
      "outputs": []
    },
    {
      "cell_type": "code",
      "source": [
        "dicta['resume'][\"resume_id\"] = pipe(\"resume_id\", resume_text)['answer']"
      ],
      "metadata": {
        "id": "4eic5XxCq9N4"
      },
      "execution_count": 84,
      "outputs": []
    },
    {
      "cell_type": "code",
      "source": [
        "FullName = pipe(\"what is my name\", resume_text)['answer']"
      ],
      "metadata": {
        "id": "oos-gKzPra4H"
      },
      "execution_count": 75,
      "outputs": []
    },
    {
      "cell_type": "code",
      "source": [
        "names = [\"first_name\", \"last_name\", \"middle_name\"]\n",
        "i = 0\n",
        "for name in FullName.split():\n",
        "    dicta['resume'][names[i]] = name\n",
        "    i += 1"
      ],
      "metadata": {
        "id": "I9xIRNoKruLj"
      },
      "execution_count": 85,
      "outputs": []
    },
    {
      "cell_type": "code",
      "source": [
        "birth_date = pipe(\"birth_date\", resume_text)['answer']"
      ],
      "metadata": {
        "id": "UcodDHqItCsv"
      },
      "execution_count": 87,
      "outputs": []
    },
    {
      "cell_type": "code",
      "source": [
        "dicta['resume'][\"birth_date\"] = birth_date"
      ],
      "metadata": {
        "id": "WV2KHvgAtQUg"
      },
      "execution_count": 88,
      "outputs": []
    },
    {
      "cell_type": "code",
      "source": [
        "dicta['resume'][\"birth_date_year_only\"] = (birth_date==True)"
      ],
      "metadata": {
        "id": "HTa_Ug4DteUI"
      },
      "execution_count": 90,
      "outputs": []
    },
    {
      "cell_type": "code",
      "source": [
        "homeland = pipe(\"homeland\", resume_text)['answer']"
      ],
      "metadata": {
        "id": "r_8ViDA2ttLH"
      },
      "execution_count": 99,
      "outputs": []
    },
    {
      "cell_type": "code",
      "source": [
        "dicta['resume'][\"country\"] = homeland"
      ],
      "metadata": {
        "id": "c66xZZzhtxO0"
      },
      "execution_count": 186,
      "outputs": []
    },
    {
      "cell_type": "code",
      "source": [
        "hometown = pipe(\"hometown\", resume_text)['answer']"
      ],
      "metadata": {
        "id": "Jq7G-B0nt0En"
      },
      "execution_count": 96,
      "outputs": []
    },
    {
      "cell_type": "code",
      "source": [
        "dicta['resume'][\"city\"] = hometown"
      ],
      "metadata": {
        "id": "J8Fmumzmt1cg"
      },
      "execution_count": 97,
      "outputs": []
    },
    {
      "cell_type": "code",
      "source": [
        "about = pipe(\"describe me\", resume_text)['answer']"
      ],
      "metadata": {
        "id": "40mCCscEuK_2"
      },
      "execution_count": 102,
      "outputs": []
    },
    {
      "cell_type": "code",
      "source": [
        "dicta['resume'][\"about\"] = about"
      ],
      "metadata": {
        "id": "DW6zfXsguLG2"
      },
      "execution_count": 103,
      "outputs": []
    },
    {
      "cell_type": "code",
      "source": [
        "key_skills = pipe(\"tell me key skills\", resume_text)['answer']"
      ],
      "metadata": {
        "id": "9NwfNwI-udqp"
      },
      "execution_count": 105,
      "outputs": []
    },
    {
      "cell_type": "code",
      "source": [
        "dicta['resume'][\"key_skills\"] = key_skills"
      ],
      "metadata": {
        "id": "c-ACZVgIudvW"
      },
      "execution_count": 106,
      "outputs": []
    },
    {
      "cell_type": "code",
      "source": [
        "dicta['resume'][\"language\"] = detect(resume_text)"
      ],
      "metadata": {
        "id": "maDquScguv0N"
      },
      "execution_count": 109,
      "outputs": []
    },
    {
      "cell_type": "code",
      "source": [
        "organization = pipe(\"place of education\", resume_text)['answer']"
      ],
      "metadata": {
        "id": "Y3-XVpBXwWHC"
      },
      "execution_count": 122,
      "outputs": []
    },
    {
      "cell_type": "code",
      "source": [
        "dicta['resume']['educationItems'][0][\"organization\"] = organization"
      ],
      "metadata": {
        "id": "fBRyM-z20b75"
      },
      "execution_count": 126,
      "outputs": []
    },
    {
      "cell_type": "code",
      "source": [
        "faculty = pipe(\"faculty of education\", resume_text)['answer']"
      ],
      "metadata": {
        "id": "PlgdPnz102Sg"
      },
      "execution_count": 134,
      "outputs": []
    },
    {
      "cell_type": "code",
      "source": [
        "dicta['resume']['educationItems'][0][\"faculty\"] = faculty"
      ],
      "metadata": {
        "id": "n1_SgUPq02W6"
      },
      "execution_count": 135,
      "outputs": []
    },
    {
      "cell_type": "code",
      "source": [
        "specialty = pipe(\"specialty of education\", resume_text)['answer']"
      ],
      "metadata": {
        "id": "nCt0kH1b09fu"
      },
      "execution_count": 140,
      "outputs": []
    },
    {
      "cell_type": "code",
      "source": [
        "dicta['resume']['educationItems'][0][\"specialty\"] = specialty"
      ],
      "metadata": {
        "id": "IUdyYqgW09or"
      },
      "execution_count": 141,
      "outputs": []
    },
    {
      "cell_type": "code",
      "source": [
        "result = pipe(\"result of education\", resume_text)['answer']"
      ],
      "metadata": {
        "id": "46T0ZanN1QvR"
      },
      "execution_count": 142,
      "outputs": []
    },
    {
      "cell_type": "code",
      "source": [
        "dicta['resume']['educationItems'][0][\"result\"] = result"
      ],
      "metadata": {
        "id": "Y9AgW2mo1Q19"
      },
      "execution_count": 143,
      "outputs": []
    },
    {
      "cell_type": "code",
      "source": [
        "education_type = pipe(\"type of education\", resume_text)['answer']"
      ],
      "metadata": {
        "id": "GSbdfuSK1v6_"
      },
      "execution_count": 145,
      "outputs": []
    },
    {
      "cell_type": "code",
      "source": [
        "dicta['resume']['educationItems'][0][\"education_type\"] = education_type"
      ],
      "metadata": {
        "id": "NDEOlCEm1v9o"
      },
      "execution_count": 146,
      "outputs": []
    },
    {
      "cell_type": "code",
      "source": [
        "education_level = pipe(\"level of education\", resume_text)['answer']"
      ],
      "metadata": {
        "id": "iHATgBap12la"
      },
      "execution_count": 147,
      "outputs": []
    },
    {
      "cell_type": "code",
      "source": [
        "resume_blocks[\"experience\"]"
      ],
      "metadata": {
        "colab": {
          "base_uri": "https://localhost:8080/",
          "height": 70
        },
        "id": "wHC1uOUQ5R0J",
        "outputId": "c7f4397f-af0f-4487-860a-e9b566e88436"
      },
      "execution_count": 157,
      "outputs": [
        {
          "output_type": "execute_result",
          "data": {
            "text/plain": [
              "'EXPERIENCE \\n Lead  Developer Jun 2021 - Present \\n Impact Admissions Nur-Sultan, KZ \\n Programmed a bot to modify scores of 98 students and post leader board in telegram and Google Sheets. \\n Researched market of 10 Ed Tech companies, compared their gains, and tested their platform on 20 students. \\n Developing an admissions prediction platform that analyzes student’s essays, exams, and grades \\n Unix  Lab  Tutor Aug 2021 - Present \\n New York University Abu Dhabi Abu Dhabi, UAE \\n Assisting students with their assignments, CS concepts, and personal tech'"
            ],
            "application/vnd.google.colaboratory.intrinsic+json": {
              "type": "string"
            }
          },
          "metadata": {},
          "execution_count": 157
        }
      ]
    },
    {
      "cell_type": "code",
      "source": [
        "starts = pipe(\"start of work\", resume_text )['answer']"
      ],
      "metadata": {
        "id": "OOlcFCoz5azw"
      },
      "execution_count": 172,
      "outputs": []
    },
    {
      "cell_type": "code",
      "source": [
        "dicta['resume']['experienceItems'][0][\"starts\"] = starts"
      ],
      "metadata": {
        "id": "7WBeqKaN12th"
      },
      "execution_count": 173,
      "outputs": []
    },
    {
      "cell_type": "code",
      "source": [
        "ends = pipe(\"end of work\", resume_text )['answer']"
      ],
      "metadata": {
        "id": "OGLasOnE5rtl"
      },
      "execution_count": 174,
      "outputs": []
    },
    {
      "cell_type": "code",
      "source": [
        "dicta['resume']['experienceItems'][0][\"ends\"] = ends"
      ],
      "metadata": {
        "id": "jf9eDiVD5t8I"
      },
      "execution_count": 175,
      "outputs": []
    },
    {
      "cell_type": "code",
      "source": [
        "employer = pipe(\"place of work\", resume_text )['answer']"
      ],
      "metadata": {
        "id": "NVSRnHNS53K7"
      },
      "execution_count": 176,
      "outputs": []
    },
    {
      "cell_type": "code",
      "source": [
        "dicta['resume']['experienceItems'][0][\"employer\"] = employer"
      ],
      "metadata": {
        "id": "aCXAtwIZ53Qg"
      },
      "execution_count": 177,
      "outputs": []
    },
    {
      "cell_type": "code",
      "source": [
        "city = pipe(\"city of work\", resume_text )['answer']"
      ],
      "metadata": {
        "id": "leq0Rgxf6b0v"
      },
      "execution_count": 179,
      "outputs": []
    },
    {
      "cell_type": "code",
      "source": [
        "dicta['resume']['experienceItems'][0][\"city\"] = city"
      ],
      "metadata": {
        "id": "UcFQYQWZ6b6N"
      },
      "execution_count": 180,
      "outputs": []
    },
    {
      "cell_type": "code",
      "source": [
        "position = pipe(\"position at work\", resume_text )['answer']"
      ],
      "metadata": {
        "id": "v9y4CFM_6gUS"
      },
      "execution_count": 181,
      "outputs": []
    },
    {
      "cell_type": "code",
      "source": [
        "dicta['resume']['experienceItems'][0][\"position\"] = position"
      ],
      "metadata": {
        "id": "JaSGUzbY6g2W"
      },
      "execution_count": 182,
      "outputs": []
    },
    {
      "cell_type": "code",
      "source": [
        "dicta"
      ],
      "metadata": {
        "colab": {
          "base_uri": "https://localhost:8080/"
        },
        "id": "Rq5VDtEjrz3H",
        "outputId": "11565f15-3217-42b9-b0e0-2dfe1b95e01f"
      },
      "execution_count": 187,
      "outputs": [
        {
          "output_type": "execute_result",
          "data": {
            "text/plain": [
              "{'resume': {'resume_id': 'Lead  Developer Jun 2021 - Present \\n Impact Admissions',\n",
              "  'first_name': 'AHMAT',\n",
              "  'last_name': 'SULEIMENOV',\n",
              "  'middle_name': '',\n",
              "  'birth_date': 'May 2024',\n",
              "  'birth_date_year_only': False,\n",
              "  'country': 'New  York  University  Abu  Dhabi',\n",
              "  'city': 'New  York  University  Abu  Dhabi',\n",
              "  'about': '\\n Lead  Developer Jun 2021 - Present \\n Impact Admissions',\n",
              "  'key_skills': 'Python, C++, C, Dart, JavaScript, HTML/CSS',\n",
              "  'salary_expectations_amount': '',\n",
              "  'salary_expectations_currency': '',\n",
              "  'photo_path': '',\n",
              "  'gender': '',\n",
              "  'language': 'en',\n",
              "  'resume_name': '',\n",
              "  'source_link': '',\n",
              "  'contactItems': {'resume_contact_item_id': '',\n",
              "   'value': '+971 50 000 9004 ⬦',\n",
              "   'comment': '',\n",
              "   'contact_type': ''},\n",
              "  'educationItems': [{'resume_education_item_id': '',\n",
              "    'year': '',\n",
              "    'organization': 'New  York  University  Abu  Dhabi',\n",
              "    'faculty': 'New York University Abu Dhabi Abu Dhabi, UAE',\n",
              "    'specialty': 'B.S. of Computer Science and Mathematics',\n",
              "    'result': 'New  York  University  Abu  Dhabi',\n",
              "    'education_type': 'New  York  University  Abu  Dhabi',\n",
              "    'education_level': 'New  York  University  Abu  Dhabi'}],\n",
              "  'experienceItems': [{'resume_experience_item_id': '',\n",
              "    'starts': 'New  York  University  Abu  Dhabi Expected May 2024',\n",
              "    'ends': 'Software Engineering School Aug 2019 - Aug 2020',\n",
              "    'employer': 'New  York  University  Abu  Dhabi',\n",
              "    'city': 'New  York  University  Abu  Dhabi',\n",
              "    'url': '',\n",
              "    'position': 'Lead  Developer',\n",
              "    'description': '',\n",
              "    'order': ''}],\n",
              "  'languageItems': [{'resume_language_item_id': '',\n",
              "    'language': '',\n",
              "    'language_level': ''}],\n",
              "  'homeland': 'New  York  University  Abu  Dhabi'},\n",
              " 'resume_id': 'Lead  Developer Jun 2021 - Present \\n Impact Admissions',\n",
              " 'first_name': 'AHMAT',\n",
              " 'last_name': 'SULEIMENOV'}"
            ]
          },
          "metadata": {},
          "execution_count": 187
        }
      ]
    }
  ]
}